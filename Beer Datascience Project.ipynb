{
 "cells": [
  {
   "cell_type": "markdown",
   "metadata": {},
   "source": [
    "Here we are importing some of the libraries of python"
   ]
  },
  {
   "cell_type": "code",
   "execution_count": 1,
   "metadata": {},
   "outputs": [],
   "source": [
    "import numpy as np\n",
    "import pandas as pd\n",
    "import matplotlib.pyplot as plt\n",
    "import seaborn as sns\n",
    "%matplotlib inline\n",
    "sns.set(style=\"whitegrid\")"
   ]
  },
  {
   "cell_type": "markdown",
   "metadata": {},
   "source": [
    "Reading the data in csv format"
   ]
  },
  {
   "cell_type": "code",
   "execution_count": 2,
   "metadata": {},
   "outputs": [],
   "source": [
    "df = pd.read_csv('BeerDataScienceProject.csv', engine = 'python')"
   ]
  },
  {
   "cell_type": "markdown",
   "metadata": {},
   "source": [
    "Getting some information "
   ]
  },
  {
   "cell_type": "code",
   "execution_count": 3,
   "metadata": {},
   "outputs": [
    {
     "name": "stdout",
     "output_type": "stream",
     "text": [
      "<class 'pandas.core.frame.DataFrame'>\n",
      "RangeIndex: 528870 entries, 0 to 528869\n",
      "Data columns (total 13 columns):\n",
      " #   Column              Non-Null Count   Dtype  \n",
      "---  ------              --------------   -----  \n",
      " 0   beer_ABV            508590 non-null  float64\n",
      " 1   beer_beerId         528870 non-null  int64  \n",
      " 2   beer_brewerId       528870 non-null  int64  \n",
      " 3   beer_name           528870 non-null  object \n",
      " 4   beer_style          528870 non-null  object \n",
      " 5   review_appearance   528870 non-null  float64\n",
      " 6   review_palette      528870 non-null  float64\n",
      " 7   review_overall      528870 non-null  float64\n",
      " 8   review_taste        528870 non-null  float64\n",
      " 9   review_profileName  528755 non-null  object \n",
      " 10  review_aroma        528870 non-null  float64\n",
      " 11  review_text         528751 non-null  object \n",
      " 12  review_time         528870 non-null  int64  \n",
      "dtypes: float64(6), int64(3), object(4)\n",
      "memory usage: 52.5+ MB\n"
     ]
    }
   ],
   "source": [
    "df.info()"
   ]
  },
  {
   "cell_type": "code",
   "execution_count": 4,
   "metadata": {},
   "outputs": [],
   "source": [
    "#Data type looks fine. No change needed."
   ]
  },
  {
   "cell_type": "markdown",
   "metadata": {},
   "source": [
    "# 1 Exploratory Data Analysis"
   ]
  },
  {
   "cell_type": "markdown",
   "metadata": {},
   "source": [
    "Checking top five rows"
   ]
  },
  {
   "cell_type": "code",
   "execution_count": 5,
   "metadata": {},
   "outputs": [
    {
     "data": {
      "text/html": [
       "<div>\n",
       "<style scoped>\n",
       "    .dataframe tbody tr th:only-of-type {\n",
       "        vertical-align: middle;\n",
       "    }\n",
       "\n",
       "    .dataframe tbody tr th {\n",
       "        vertical-align: top;\n",
       "    }\n",
       "\n",
       "    .dataframe thead th {\n",
       "        text-align: right;\n",
       "    }\n",
       "</style>\n",
       "<table border=\"1\" class=\"dataframe\">\n",
       "  <thead>\n",
       "    <tr style=\"text-align: right;\">\n",
       "      <th></th>\n",
       "      <th>beer_ABV</th>\n",
       "      <th>beer_beerId</th>\n",
       "      <th>beer_brewerId</th>\n",
       "      <th>beer_name</th>\n",
       "      <th>beer_style</th>\n",
       "      <th>review_appearance</th>\n",
       "      <th>review_palette</th>\n",
       "      <th>review_overall</th>\n",
       "      <th>review_taste</th>\n",
       "      <th>review_profileName</th>\n",
       "      <th>review_aroma</th>\n",
       "      <th>review_text</th>\n",
       "      <th>review_time</th>\n",
       "    </tr>\n",
       "  </thead>\n",
       "  <tbody>\n",
       "    <tr>\n",
       "      <th>0</th>\n",
       "      <td>5.0</td>\n",
       "      <td>47986</td>\n",
       "      <td>10325</td>\n",
       "      <td>Sausa Weizen</td>\n",
       "      <td>Hefeweizen</td>\n",
       "      <td>2.5</td>\n",
       "      <td>2.0</td>\n",
       "      <td>1.5</td>\n",
       "      <td>1.5</td>\n",
       "      <td>stcules</td>\n",
       "      <td>1.5</td>\n",
       "      <td>A lot of foam. But a lot. In the smell some ba...</td>\n",
       "      <td>1234817823</td>\n",
       "    </tr>\n",
       "    <tr>\n",
       "      <th>1</th>\n",
       "      <td>6.2</td>\n",
       "      <td>48213</td>\n",
       "      <td>10325</td>\n",
       "      <td>Red Moon</td>\n",
       "      <td>English Strong Ale</td>\n",
       "      <td>3.0</td>\n",
       "      <td>2.5</td>\n",
       "      <td>3.0</td>\n",
       "      <td>3.0</td>\n",
       "      <td>stcules</td>\n",
       "      <td>3.0</td>\n",
       "      <td>Dark red color, light beige foam, average. In ...</td>\n",
       "      <td>1235915097</td>\n",
       "    </tr>\n",
       "    <tr>\n",
       "      <th>2</th>\n",
       "      <td>6.5</td>\n",
       "      <td>48215</td>\n",
       "      <td>10325</td>\n",
       "      <td>Black Horse Black Beer</td>\n",
       "      <td>Foreign / Export Stout</td>\n",
       "      <td>3.0</td>\n",
       "      <td>2.5</td>\n",
       "      <td>3.0</td>\n",
       "      <td>3.0</td>\n",
       "      <td>stcules</td>\n",
       "      <td>3.0</td>\n",
       "      <td>Almost totally black. Beige foam, quite compac...</td>\n",
       "      <td>1235916604</td>\n",
       "    </tr>\n",
       "    <tr>\n",
       "      <th>3</th>\n",
       "      <td>5.0</td>\n",
       "      <td>47969</td>\n",
       "      <td>10325</td>\n",
       "      <td>Sausa Pils</td>\n",
       "      <td>German Pilsener</td>\n",
       "      <td>3.5</td>\n",
       "      <td>3.0</td>\n",
       "      <td>3.0</td>\n",
       "      <td>2.5</td>\n",
       "      <td>stcules</td>\n",
       "      <td>3.0</td>\n",
       "      <td>Golden yellow color. White, compact foam, quit...</td>\n",
       "      <td>1234725145</td>\n",
       "    </tr>\n",
       "    <tr>\n",
       "      <th>4</th>\n",
       "      <td>7.7</td>\n",
       "      <td>64883</td>\n",
       "      <td>1075</td>\n",
       "      <td>Cauldron DIPA</td>\n",
       "      <td>American Double / Imperial IPA</td>\n",
       "      <td>4.0</td>\n",
       "      <td>4.5</td>\n",
       "      <td>4.0</td>\n",
       "      <td>4.0</td>\n",
       "      <td>johnmichaelsen</td>\n",
       "      <td>4.5</td>\n",
       "      <td>According to the website, the style for the Ca...</td>\n",
       "      <td>1293735206</td>\n",
       "    </tr>\n",
       "  </tbody>\n",
       "</table>\n",
       "</div>"
      ],
      "text/plain": [
       "   beer_ABV  beer_beerId  beer_brewerId               beer_name  \\\n",
       "0       5.0        47986          10325            Sausa Weizen   \n",
       "1       6.2        48213          10325                Red Moon   \n",
       "2       6.5        48215          10325  Black Horse Black Beer   \n",
       "3       5.0        47969          10325              Sausa Pils   \n",
       "4       7.7        64883           1075           Cauldron DIPA   \n",
       "\n",
       "                       beer_style  review_appearance  review_palette  \\\n",
       "0                      Hefeweizen                2.5             2.0   \n",
       "1              English Strong Ale                3.0             2.5   \n",
       "2          Foreign / Export Stout                3.0             2.5   \n",
       "3                 German Pilsener                3.5             3.0   \n",
       "4  American Double / Imperial IPA                4.0             4.5   \n",
       "\n",
       "   review_overall  review_taste review_profileName  review_aroma  \\\n",
       "0             1.5           1.5            stcules           1.5   \n",
       "1             3.0           3.0            stcules           3.0   \n",
       "2             3.0           3.0            stcules           3.0   \n",
       "3             3.0           2.5            stcules           3.0   \n",
       "4             4.0           4.0     johnmichaelsen           4.5   \n",
       "\n",
       "                                         review_text  review_time  \n",
       "0  A lot of foam. But a lot. In the smell some ba...   1234817823  \n",
       "1  Dark red color, light beige foam, average. In ...   1235915097  \n",
       "2  Almost totally black. Beige foam, quite compac...   1235916604  \n",
       "3  Golden yellow color. White, compact foam, quit...   1234725145  \n",
       "4  According to the website, the style for the Ca...   1293735206  "
      ]
     },
     "execution_count": 5,
     "metadata": {},
     "output_type": "execute_result"
    }
   ],
   "source": [
    "df.head()"
   ]
  },
  {
   "cell_type": "markdown",
   "metadata": {},
   "source": [
    "Here review_time column is in UNIX time format so we need to change it.\n",
    "\n",
    "Below is Converted column of review_time with dataset. Converted column in excel as it was easier.So now importing new dataset with converted column."
   ]
  },
  {
   "cell_type": "code",
   "execution_count": 6,
   "metadata": {},
   "outputs": [],
   "source": [
    "df1=pd.read_excel('BeerDataScienceProject33.xlsx')"
   ]
  },
  {
   "cell_type": "markdown",
   "metadata": {},
   "source": [
    "Checking head again "
   ]
  },
  {
   "cell_type": "code",
   "execution_count": 7,
   "metadata": {},
   "outputs": [
    {
     "data": {
      "text/html": [
       "<div>\n",
       "<style scoped>\n",
       "    .dataframe tbody tr th:only-of-type {\n",
       "        vertical-align: middle;\n",
       "    }\n",
       "\n",
       "    .dataframe tbody tr th {\n",
       "        vertical-align: top;\n",
       "    }\n",
       "\n",
       "    .dataframe thead th {\n",
       "        text-align: right;\n",
       "    }\n",
       "</style>\n",
       "<table border=\"1\" class=\"dataframe\">\n",
       "  <thead>\n",
       "    <tr style=\"text-align: right;\">\n",
       "      <th></th>\n",
       "      <th>beer_ABV</th>\n",
       "      <th>beer_beerId</th>\n",
       "      <th>beer_brewerId</th>\n",
       "      <th>beer_name</th>\n",
       "      <th>beer_style</th>\n",
       "      <th>review_appearance</th>\n",
       "      <th>review_palette</th>\n",
       "      <th>review_overall</th>\n",
       "      <th>review_taste</th>\n",
       "      <th>review_profileName</th>\n",
       "      <th>review_aroma</th>\n",
       "      <th>review_text</th>\n",
       "      <th>review_time</th>\n",
       "      <th>Converted review_time</th>\n",
       "    </tr>\n",
       "  </thead>\n",
       "  <tbody>\n",
       "    <tr>\n",
       "      <th>0</th>\n",
       "      <td>5.0</td>\n",
       "      <td>47986</td>\n",
       "      <td>10325</td>\n",
       "      <td>Sausa Weizen</td>\n",
       "      <td>Hefeweizen</td>\n",
       "      <td>2.5</td>\n",
       "      <td>2.0</td>\n",
       "      <td>1.5</td>\n",
       "      <td>1.5</td>\n",
       "      <td>stcules</td>\n",
       "      <td>1.5</td>\n",
       "      <td>A lot of foam. But a lot. In the smell some ba...</td>\n",
       "      <td>1234817823</td>\n",
       "      <td>2009-02-16 20:57:03</td>\n",
       "    </tr>\n",
       "    <tr>\n",
       "      <th>1</th>\n",
       "      <td>6.2</td>\n",
       "      <td>48213</td>\n",
       "      <td>10325</td>\n",
       "      <td>Red Moon</td>\n",
       "      <td>English Strong Ale</td>\n",
       "      <td>3.0</td>\n",
       "      <td>2.5</td>\n",
       "      <td>3.0</td>\n",
       "      <td>3.0</td>\n",
       "      <td>stcules</td>\n",
       "      <td>3.0</td>\n",
       "      <td>Dark red color, light beige foam, average. In ...</td>\n",
       "      <td>1235915097</td>\n",
       "      <td>2009-03-01 13:44:57</td>\n",
       "    </tr>\n",
       "    <tr>\n",
       "      <th>2</th>\n",
       "      <td>6.5</td>\n",
       "      <td>48215</td>\n",
       "      <td>10325</td>\n",
       "      <td>Black Horse Black Beer</td>\n",
       "      <td>Foreign / Export Stout</td>\n",
       "      <td>3.0</td>\n",
       "      <td>2.5</td>\n",
       "      <td>3.0</td>\n",
       "      <td>3.0</td>\n",
       "      <td>stcules</td>\n",
       "      <td>3.0</td>\n",
       "      <td>Almost totally black. Beige foam, quite compac...</td>\n",
       "      <td>1235916604</td>\n",
       "      <td>2009-03-01 14:10:04</td>\n",
       "    </tr>\n",
       "    <tr>\n",
       "      <th>3</th>\n",
       "      <td>5.0</td>\n",
       "      <td>47969</td>\n",
       "      <td>10325</td>\n",
       "      <td>Sausa Pils</td>\n",
       "      <td>German Pilsener</td>\n",
       "      <td>3.5</td>\n",
       "      <td>3.0</td>\n",
       "      <td>3.0</td>\n",
       "      <td>2.5</td>\n",
       "      <td>stcules</td>\n",
       "      <td>3.0</td>\n",
       "      <td>Golden yellow color. White, compact foam, quit...</td>\n",
       "      <td>1234725145</td>\n",
       "      <td>2009-02-15 19:12:25</td>\n",
       "    </tr>\n",
       "    <tr>\n",
       "      <th>4</th>\n",
       "      <td>7.7</td>\n",
       "      <td>64883</td>\n",
       "      <td>1075</td>\n",
       "      <td>Cauldron DIPA</td>\n",
       "      <td>American Double / Imperial IPA</td>\n",
       "      <td>4.0</td>\n",
       "      <td>4.5</td>\n",
       "      <td>4.0</td>\n",
       "      <td>4.0</td>\n",
       "      <td>johnmichaelsen</td>\n",
       "      <td>4.5</td>\n",
       "      <td>According to the website, the style for the Ca...</td>\n",
       "      <td>1293735206</td>\n",
       "      <td>2010-12-30 18:53:26</td>\n",
       "    </tr>\n",
       "  </tbody>\n",
       "</table>\n",
       "</div>"
      ],
      "text/plain": [
       "   beer_ABV  beer_beerId  beer_brewerId               beer_name  \\\n",
       "0       5.0        47986          10325            Sausa Weizen   \n",
       "1       6.2        48213          10325                Red Moon   \n",
       "2       6.5        48215          10325  Black Horse Black Beer   \n",
       "3       5.0        47969          10325              Sausa Pils   \n",
       "4       7.7        64883           1075           Cauldron DIPA   \n",
       "\n",
       "                       beer_style  review_appearance  review_palette  \\\n",
       "0                      Hefeweizen                2.5             2.0   \n",
       "1              English Strong Ale                3.0             2.5   \n",
       "2          Foreign / Export Stout                3.0             2.5   \n",
       "3                 German Pilsener                3.5             3.0   \n",
       "4  American Double / Imperial IPA                4.0             4.5   \n",
       "\n",
       "   review_overall  review_taste review_profileName  review_aroma  \\\n",
       "0             1.5           1.5            stcules           1.5   \n",
       "1             3.0           3.0            stcules           3.0   \n",
       "2             3.0           3.0            stcules           3.0   \n",
       "3             3.0           2.5            stcules           3.0   \n",
       "4             4.0           4.0     johnmichaelsen           4.5   \n",
       "\n",
       "                                         review_text  review_time  \\\n",
       "0  A lot of foam. But a lot. In the smell some ba...   1234817823   \n",
       "1  Dark red color, light beige foam, average. In ...   1235915097   \n",
       "2  Almost totally black. Beige foam, quite compac...   1235916604   \n",
       "3  Golden yellow color. White, compact foam, quit...   1234725145   \n",
       "4  According to the website, the style for the Ca...   1293735206   \n",
       "\n",
       "  Converted review_time  \n",
       "0   2009-02-16 20:57:03  \n",
       "1   2009-03-01 13:44:57  \n",
       "2   2009-03-01 14:10:04  \n",
       "3   2009-02-15 19:12:25  \n",
       "4   2010-12-30 18:53:26  "
      ]
     },
     "execution_count": 7,
     "metadata": {},
     "output_type": "execute_result"
    }
   ],
   "source": [
    "df1.head()"
   ]
  },
  {
   "cell_type": "code",
   "execution_count": 8,
   "metadata": {},
   "outputs": [],
   "source": [
    "#Don't need review_time column as we have new converted time"
   ]
  },
  {
   "cell_type": "code",
   "execution_count": 9,
   "metadata": {},
   "outputs": [],
   "source": [
    "df1.drop('review_time',axis=1,inplace=True)"
   ]
  },
  {
   "cell_type": "code",
   "execution_count": 10,
   "metadata": {},
   "outputs": [
    {
     "data": {
      "text/plain": [
       "(528870, 13)"
      ]
     },
     "execution_count": 10,
     "metadata": {},
     "output_type": "execute_result"
    }
   ],
   "source": [
    "df1.shape"
   ]
  },
  {
   "cell_type": "code",
   "execution_count": 11,
   "metadata": {},
   "outputs": [],
   "source": [
    "#528870 rows and 13 columns."
   ]
  },
  {
   "cell_type": "markdown",
   "metadata": {},
   "source": [
    "Checking some aggregate functions with describe method"
   ]
  },
  {
   "cell_type": "code",
   "execution_count": 12,
   "metadata": {},
   "outputs": [],
   "source": [
    "D=df1[['review_overall','review_taste','review_aroma','review_palette','review_appearance']]"
   ]
  },
  {
   "cell_type": "code",
   "execution_count": 13,
   "metadata": {},
   "outputs": [
    {
     "data": {
      "text/html": [
       "<div>\n",
       "<style scoped>\n",
       "    .dataframe tbody tr th:only-of-type {\n",
       "        vertical-align: middle;\n",
       "    }\n",
       "\n",
       "    .dataframe tbody tr th {\n",
       "        vertical-align: top;\n",
       "    }\n",
       "\n",
       "    .dataframe thead th {\n",
       "        text-align: right;\n",
       "    }\n",
       "</style>\n",
       "<table border=\"1\" class=\"dataframe\">\n",
       "  <thead>\n",
       "    <tr style=\"text-align: right;\">\n",
       "      <th></th>\n",
       "      <th>count</th>\n",
       "      <th>mean</th>\n",
       "      <th>std</th>\n",
       "      <th>min</th>\n",
       "      <th>25%</th>\n",
       "      <th>50%</th>\n",
       "      <th>75%</th>\n",
       "      <th>max</th>\n",
       "    </tr>\n",
       "  </thead>\n",
       "  <tbody>\n",
       "    <tr>\n",
       "      <th>review_overall</th>\n",
       "      <td>528870.0</td>\n",
       "      <td>3.833197</td>\n",
       "      <td>0.709962</td>\n",
       "      <td>0.0</td>\n",
       "      <td>3.5</td>\n",
       "      <td>4.0</td>\n",
       "      <td>4.5</td>\n",
       "      <td>5.0</td>\n",
       "    </tr>\n",
       "    <tr>\n",
       "      <th>review_taste</th>\n",
       "      <td>528870.0</td>\n",
       "      <td>3.765993</td>\n",
       "      <td>0.669018</td>\n",
       "      <td>1.0</td>\n",
       "      <td>3.5</td>\n",
       "      <td>4.0</td>\n",
       "      <td>4.0</td>\n",
       "      <td>5.0</td>\n",
       "    </tr>\n",
       "    <tr>\n",
       "      <th>review_aroma</th>\n",
       "      <td>528870.0</td>\n",
       "      <td>3.817350</td>\n",
       "      <td>0.718903</td>\n",
       "      <td>1.0</td>\n",
       "      <td>3.5</td>\n",
       "      <td>4.0</td>\n",
       "      <td>4.5</td>\n",
       "      <td>5.0</td>\n",
       "    </tr>\n",
       "    <tr>\n",
       "      <th>review_palette</th>\n",
       "      <td>528870.0</td>\n",
       "      <td>3.758926</td>\n",
       "      <td>0.685335</td>\n",
       "      <td>1.0</td>\n",
       "      <td>3.5</td>\n",
       "      <td>4.0</td>\n",
       "      <td>4.0</td>\n",
       "      <td>5.0</td>\n",
       "    </tr>\n",
       "    <tr>\n",
       "      <th>review_appearance</th>\n",
       "      <td>528870.0</td>\n",
       "      <td>3.864522</td>\n",
       "      <td>0.604010</td>\n",
       "      <td>0.0</td>\n",
       "      <td>3.5</td>\n",
       "      <td>4.0</td>\n",
       "      <td>4.0</td>\n",
       "      <td>5.0</td>\n",
       "    </tr>\n",
       "  </tbody>\n",
       "</table>\n",
       "</div>"
      ],
      "text/plain": [
       "                      count      mean       std  min  25%  50%  75%  max\n",
       "review_overall     528870.0  3.833197  0.709962  0.0  3.5  4.0  4.5  5.0\n",
       "review_taste       528870.0  3.765993  0.669018  1.0  3.5  4.0  4.0  5.0\n",
       "review_aroma       528870.0  3.817350  0.718903  1.0  3.5  4.0  4.5  5.0\n",
       "review_palette     528870.0  3.758926  0.685335  1.0  3.5  4.0  4.0  5.0\n",
       "review_appearance  528870.0  3.864522  0.604010  0.0  3.5  4.0  4.0  5.0"
      ]
     },
     "execution_count": 13,
     "metadata": {},
     "output_type": "execute_result"
    }
   ],
   "source": [
    "D.describe().transpose()"
   ]
  },
  {
   "cell_type": "markdown",
   "metadata": {},
   "source": [
    "#     1.1 Detection and Treatment of Null values"
   ]
  },
  {
   "cell_type": "code",
   "execution_count": 14,
   "metadata": {},
   "outputs": [
    {
     "data": {
      "text/plain": [
       "beer_ABV                 20280\n",
       "beer_beerId                  0\n",
       "beer_brewerId                0\n",
       "beer_name                    0\n",
       "beer_style                   0\n",
       "review_appearance            0\n",
       "review_palette               0\n",
       "review_overall               0\n",
       "review_taste                 0\n",
       "review_profileName         115\n",
       "review_aroma                 0\n",
       "review_text                211\n",
       "Converted review_time        0\n",
       "dtype: int64"
      ]
     },
     "execution_count": 14,
     "metadata": {},
     "output_type": "execute_result"
    }
   ],
   "source": [
    "df1.isnull().sum()"
   ]
  },
  {
   "cell_type": "code",
   "execution_count": 15,
   "metadata": {},
   "outputs": [],
   "source": [
    "#We can see that we have null values in features like beer_ABV,review_profilename and review_text."
   ]
  },
  {
   "cell_type": "markdown",
   "metadata": {},
   "source": [
    "Treatment of Null values in beer_ABV column"
   ]
  },
  {
   "cell_type": "code",
   "execution_count": 16,
   "metadata": {},
   "outputs": [
    {
     "data": {
      "text/plain": [
       "Text(0, 0.5, 'Density')"
      ]
     },
     "execution_count": 16,
     "metadata": {},
     "output_type": "execute_result"
    },
    {
     "data": {
      "image/png": "[encoded data removed]",
      "text/plain": [
       "<Figure size 720x360 with 1 Axes>"
      ]
     },
     "metadata": {},
     "output_type": "display_data"
    }
   ],
   "source": [
    "plt.figure(figsize=(10,5))\n",
    "sns.kdeplot(df1['beer_ABV'],shade=True)\n",
    "plt.xlabel('Alcoho by Volume')\n",
    "plt.ylabel('Density')"
   ]
  },
  {
   "cell_type": "markdown",
   "metadata": {},
   "source": [
    "#Here our data is not symmetrical, it looks left skewed with a big extended tail. so i will be replacing missing values with MEDIAN value."
   ]
  },
  {
   "cell_type": "code",
   "execution_count": 17,
   "metadata": {},
   "outputs": [
    {
     "data": {
      "text/plain": [
       "6.5"
      ]
     },
     "execution_count": 17,
     "metadata": {},
     "output_type": "execute_result"
    }
   ],
   "source": [
    "df1['beer_ABV'].median()"
   ]
  },
  {
   "cell_type": "code",
   "execution_count": 18,
   "metadata": {},
   "outputs": [],
   "source": [
    "df1['beer_ABV'].fillna(6.5,inplace=True)"
   ]
  },
  {
   "cell_type": "code",
   "execution_count": 19,
   "metadata": {},
   "outputs": [
    {
     "data": {
      "text/plain": [
       "0"
      ]
     },
     "execution_count": 19,
     "metadata": {},
     "output_type": "execute_result"
    }
   ],
   "source": [
    "df1['beer_ABV'].isnull().sum()"
   ]
  },
  {
   "cell_type": "markdown",
   "metadata": {},
   "source": [
    "# 1.2 Detection and Treatment of Outliers\n"
   ]
  },
  {
   "cell_type": "markdown",
   "metadata": {},
   "source": [
    "There are many methods to detect outliers some of them are as follwing.\n",
    "\n",
    "1)With Boxplot\n",
    "     \n",
    "2)With IQR range\n",
    "     \n",
    "3)With Z-Score\n",
    "     \n",
    "4)With Scatter Plot\n",
    "\n",
    "\n",
    "There is no hard and fast rule to select one method but i will use outlier treatment with Z-Score.\n"
   ]
  },
  {
   "cell_type": "code",
   "execution_count": 20,
   "metadata": {},
   "outputs": [],
   "source": [
    "mean=np.mean(df1['beer_ABV'])\n",
    "std=np.std(df1['beer_ABV'])"
   ]
  },
  {
   "cell_type": "markdown",
   "metadata": {},
   "source": [
    "#Here i have created mean and std objects which give us mean and standard deviation of beer_ABV column"
   ]
  },
  {
   "cell_type": "code",
   "execution_count": 21,
   "metadata": {},
   "outputs": [],
   "source": [
    "threshold=3\n",
    "outlier=[]\n",
    "for i in df1['beer_ABV']:\n",
    "    z=(i-mean)/std\n",
    "    if z>threshold:\n",
    "        outlier.append(i)"
   ]
  },
  {
   "cell_type": "code",
   "execution_count": 22,
   "metadata": {},
   "outputs": [
    {
     "data": {
      "text/plain": [
       "3005"
      ]
     },
     "execution_count": 22,
     "metadata": {},
     "output_type": "execute_result"
    }
   ],
   "source": [
    "len(outlier)"
   ]
  },
  {
   "cell_type": "code",
   "execution_count": 23,
   "metadata": {},
   "outputs": [],
   "source": [
    "# i have created a function to identify outliers based on Z score"
   ]
  },
  {
   "cell_type": "code",
   "execution_count": 24,
   "metadata": {},
   "outputs": [
    {
     "name": "stdout",
     "output_type": "stream",
     "text": [
      "total value of outlier is 0.5681925614990451 %\n"
     ]
    }
   ],
   "source": [
    "for i in outlier:\n",
    "    t=len(outlier)/len(df1['beer_ABV'])*100\n",
    "print('total value of outlier is',t,'%')"
   ]
  },
  {
   "cell_type": "code",
   "execution_count": 25,
   "metadata": {},
   "outputs": [],
   "source": [
    "# As above outliers are only 0.56% of beer_ABV column.\n",
    "# We can either remove outliers or we can replace them"
   ]
  },
  {
   "cell_type": "code",
   "execution_count": 28,
   "metadata": {},
   "outputs": [],
   "source": [
    "threshold=3\n",
    "outlier=[]\n",
    "for i in df1['beer_ABV']:\n",
    "    z=(i-mean)/std\n",
    "    if z>threshold:\n",
    "        df1['beer_ABV'].replace(i,6.5,inplace=True)"
   ]
  },
  {
   "cell_type": "code",
   "execution_count": 29,
   "metadata": {},
   "outputs": [
    {
     "data": {
      "text/plain": [
       "0"
      ]
     },
     "execution_count": 29,
     "metadata": {},
     "output_type": "execute_result"
    }
   ],
   "source": [
    "len(outlier)"
   ]
  },
  {
   "cell_type": "code",
   "execution_count": 30,
   "metadata": {},
   "outputs": [],
   "source": [
    "# I replaced outliers with the MEDIAN value of beer_ABV column."
   ]
  },
  {
   "cell_type": "code",
   "execution_count": 31,
   "metadata": {},
   "outputs": [],
   "source": [
    "outlier1=[]\n",
    "threshold=3\n",
    "for i in df1['review_taste']:\n",
    "    z=(i-mean)/std\n",
    "    if z>threshold:\n",
    "        outlier1.append(i)"
   ]
  },
  {
   "cell_type": "code",
   "execution_count": 32,
   "metadata": {},
   "outputs": [
    {
     "data": {
      "text/plain": [
       "0"
      ]
     },
     "execution_count": 32,
     "metadata": {},
     "output_type": "execute_result"
    }
   ],
   "source": [
    "len(outlier1)"
   ]
  },
  {
   "cell_type": "code",
   "execution_count": 33,
   "metadata": {},
   "outputs": [],
   "source": [
    "#review_taste column does not have outlier"
   ]
  },
  {
   "cell_type": "code",
   "execution_count": 34,
   "metadata": {},
   "outputs": [],
   "source": [
    "outlier2=[]\n",
    "threshold=3\n",
    "for i in df1['review_palette']:\n",
    "    z=(i-mean)/std\n",
    "    if z>threshold:\n",
    "        outlier2.append(i)   "
   ]
  },
  {
   "cell_type": "code",
   "execution_count": 35,
   "metadata": {},
   "outputs": [
    {
     "data": {
      "text/plain": [
       "0"
      ]
     },
     "execution_count": 35,
     "metadata": {},
     "output_type": "execute_result"
    }
   ],
   "source": [
    "len(outlier2)"
   ]
  },
  {
   "cell_type": "code",
   "execution_count": 36,
   "metadata": {},
   "outputs": [],
   "source": [
    "#review_palette column does not have outlier"
   ]
  },
  {
   "cell_type": "code",
   "execution_count": 37,
   "metadata": {},
   "outputs": [],
   "source": [
    "outlier3=[]\n",
    "threshold=3\n",
    "for i in df1['review_aroma']:\n",
    "    z=(i-mean)/std\n",
    "    if z>threshold:\n",
    "        outlier3.append(i)  "
   ]
  },
  {
   "cell_type": "code",
   "execution_count": 38,
   "metadata": {},
   "outputs": [
    {
     "data": {
      "text/plain": [
       "0"
      ]
     },
     "execution_count": 38,
     "metadata": {},
     "output_type": "execute_result"
    }
   ],
   "source": [
    "len(outlier3)"
   ]
  },
  {
   "cell_type": "code",
   "execution_count": 39,
   "metadata": {},
   "outputs": [],
   "source": [
    "#review_aroma column does not have outlier"
   ]
  },
  {
   "cell_type": "code",
   "execution_count": 40,
   "metadata": {},
   "outputs": [],
   "source": [
    "outlier4=[]\n",
    "threshold=3\n",
    "for i in df1['review_overall']:\n",
    "    z=(i-mean)/std\n",
    "    if z>threshold:\n",
    "        outlier4.append(i)"
   ]
  },
  {
   "cell_type": "code",
   "execution_count": 41,
   "metadata": {},
   "outputs": [
    {
     "data": {
      "text/plain": [
       "0"
      ]
     },
     "execution_count": 41,
     "metadata": {},
     "output_type": "execute_result"
    }
   ],
   "source": [
    "len(outlier4)"
   ]
  },
  {
   "cell_type": "code",
   "execution_count": 42,
   "metadata": {},
   "outputs": [],
   "source": [
    "#review_overall column does not have outlier"
   ]
  },
  {
   "cell_type": "code",
   "execution_count": 43,
   "metadata": {},
   "outputs": [],
   "source": [
    "outlier5=[]\n",
    "threshold=3\n",
    "for i in df1['review_appearance']:\n",
    "    z=(i-mean)/std\n",
    "    if z>threshold:\n",
    "        outlier5.append(i)"
   ]
  },
  {
   "cell_type": "code",
   "execution_count": 44,
   "metadata": {},
   "outputs": [
    {
     "data": {
      "text/plain": [
       "0"
      ]
     },
     "execution_count": 44,
     "metadata": {},
     "output_type": "execute_result"
    }
   ],
   "source": [
    "len(outlier5)"
   ]
  },
  {
   "cell_type": "code",
   "execution_count": 45,
   "metadata": {},
   "outputs": [],
   "source": [
    "#review_appearance column does not have outlier"
   ]
  },
  {
   "cell_type": "code",
   "execution_count": 46,
   "metadata": {},
   "outputs": [
    {
     "data": {
      "image/png": "[encoded data removed]",
      "text/plain": [
       "<Figure size 864x720 with 6 Axes>"
      ]
     },
     "metadata": {},
     "output_type": "display_data"
    }
   ],
   "source": [
    "df2=df1.drop(['beer_beerId','beer_brewerId'],axis=1)\n",
    "df2.hist(figsize=(12,10))\n",
    "plt.show()"
   ]
  },
  {
   "cell_type": "code",
   "execution_count": 47,
   "metadata": {},
   "outputs": [],
   "source": [
    "Top10= df1[['beer_name','review_overall']]\\\n",
    "    .pivot_table(index=\"beer_name\", aggfunc=('count'))\\\n",
    "    .dropna()"
   ]
  },
  {
   "cell_type": "code",
   "execution_count": 48,
   "metadata": {},
   "outputs": [
    {
     "data": {
      "text/html": [
       "<div>\n",
       "<style scoped>\n",
       "    .dataframe tbody tr th:only-of-type {\n",
       "        vertical-align: middle;\n",
       "    }\n",
       "\n",
       "    .dataframe tbody tr th {\n",
       "        vertical-align: top;\n",
       "    }\n",
       "\n",
       "    .dataframe thead th {\n",
       "        text-align: right;\n",
       "    }\n",
       "</style>\n",
       "<table border=\"1\" class=\"dataframe\">\n",
       "  <thead>\n",
       "    <tr style=\"text-align: right;\">\n",
       "      <th></th>\n",
       "      <th>review_overall</th>\n",
       "    </tr>\n",
       "    <tr>\n",
       "      <th>beer_name</th>\n",
       "      <th></th>\n",
       "    </tr>\n",
       "  </thead>\n",
       "  <tbody>\n",
       "    <tr>\n",
       "      <th>Sierra Nevada Celebration Ale</th>\n",
       "      <td>3000</td>\n",
       "    </tr>\n",
       "    <tr>\n",
       "      <th>Sierra Nevada Pale Ale</th>\n",
       "      <td>2587</td>\n",
       "    </tr>\n",
       "    <tr>\n",
       "      <th>Founders Breakfast Stout</th>\n",
       "      <td>2502</td>\n",
       "    </tr>\n",
       "    <tr>\n",
       "      <th>Sierra Nevada Bigfoot Barleywine Style Ale</th>\n",
       "      <td>2492</td>\n",
       "    </tr>\n",
       "    <tr>\n",
       "      <th>La Fin Du Monde</th>\n",
       "      <td>2483</td>\n",
       "    </tr>\n",
       "    <tr>\n",
       "      <th>Samuel Adams Boston Lager</th>\n",
       "      <td>2418</td>\n",
       "    </tr>\n",
       "    <tr>\n",
       "      <th>Chocolate Stout</th>\n",
       "      <td>2254</td>\n",
       "    </tr>\n",
       "    <tr>\n",
       "      <th>Dead Guy Ale</th>\n",
       "      <td>2234</td>\n",
       "    </tr>\n",
       "    <tr>\n",
       "      <th>Trappistes Rochefort 10</th>\n",
       "      <td>2170</td>\n",
       "    </tr>\n",
       "    <tr>\n",
       "      <th>Sierra Nevada Torpedo Extra IPA</th>\n",
       "      <td>2029</td>\n",
       "    </tr>\n",
       "  </tbody>\n",
       "</table>\n",
       "</div>"
      ],
      "text/plain": [
       "                                            review_overall\n",
       "beer_name                                                 \n",
       "Sierra Nevada Celebration Ale                         3000\n",
       "Sierra Nevada Pale Ale                                2587\n",
       "Founders Breakfast Stout                              2502\n",
       "Sierra Nevada Bigfoot Barleywine Style Ale            2492\n",
       "La Fin Du Monde                                       2483\n",
       "Samuel Adams Boston Lager                             2418\n",
       "Chocolate Stout                                       2254\n",
       "Dead Guy Ale                                          2234\n",
       "Trappistes Rochefort 10                               2170\n",
       "Sierra Nevada Torpedo Extra IPA                       2029"
      ]
     },
     "execution_count": 48,
     "metadata": {},
     "output_type": "execute_result"
    }
   ],
   "source": [
    "Top10.sort_values('review_overall',ascending=False)\\\n",
    "  .head(10)"
   ]
  },
  {
   "cell_type": "code",
   "execution_count": 49,
   "metadata": {},
   "outputs": [],
   "source": [
    "#top 10 highest rated beer in entire dataset as shown above."
   ]
  },
  {
   "cell_type": "code",
   "execution_count": 50,
   "metadata": {},
   "outputs": [],
   "source": [
    "Top5= df1[['review_overall','beer_style']]\\\n",
    "    .pivot_table(index=\"beer_style\", aggfunc=('count'))\\\n",
    "    .dropna()"
   ]
  },
  {
   "cell_type": "code",
   "execution_count": 51,
   "metadata": {},
   "outputs": [
    {
     "data": {
      "text/html": [
       "<div>\n",
       "<style scoped>\n",
       "    .dataframe tbody tr th:only-of-type {\n",
       "        vertical-align: middle;\n",
       "    }\n",
       "\n",
       "    .dataframe tbody tr th {\n",
       "        vertical-align: top;\n",
       "    }\n",
       "\n",
       "    .dataframe thead th {\n",
       "        text-align: right;\n",
       "    }\n",
       "</style>\n",
       "<table border=\"1\" class=\"dataframe\">\n",
       "  <thead>\n",
       "    <tr style=\"text-align: right;\">\n",
       "      <th></th>\n",
       "      <th>review_overall</th>\n",
       "    </tr>\n",
       "    <tr>\n",
       "      <th>beer_style</th>\n",
       "      <th></th>\n",
       "    </tr>\n",
       "  </thead>\n",
       "  <tbody>\n",
       "    <tr>\n",
       "      <th>American IPA</th>\n",
       "      <td>43369</td>\n",
       "    </tr>\n",
       "    <tr>\n",
       "      <th>American Double / Imperial IPA</th>\n",
       "      <td>26106</td>\n",
       "    </tr>\n",
       "    <tr>\n",
       "      <th>American Double / Imperial Stout</th>\n",
       "      <td>23354</td>\n",
       "    </tr>\n",
       "    <tr>\n",
       "      <th>American Pale Ale (APA)</th>\n",
       "      <td>20520</td>\n",
       "    </tr>\n",
       "    <tr>\n",
       "      <th>American Amber / Red Ale</th>\n",
       "      <td>18731</td>\n",
       "    </tr>\n",
       "    <tr>\n",
       "      <th>Russian Imperial Stout</th>\n",
       "      <td>17192</td>\n",
       "    </tr>\n",
       "    <tr>\n",
       "      <th>American Porter</th>\n",
       "      <td>16601</td>\n",
       "    </tr>\n",
       "    <tr>\n",
       "      <th>Belgian Strong Dark Ale</th>\n",
       "      <td>15407</td>\n",
       "    </tr>\n",
       "    <tr>\n",
       "      <th>Fruit / Vegetable Beer</th>\n",
       "      <td>15148</td>\n",
       "    </tr>\n",
       "    <tr>\n",
       "      <th>Witbier</th>\n",
       "      <td>13535</td>\n",
       "    </tr>\n",
       "  </tbody>\n",
       "</table>\n",
       "</div>"
      ],
      "text/plain": [
       "                                  review_overall\n",
       "beer_style                                      \n",
       "American IPA                               43369\n",
       "American Double / Imperial IPA             26106\n",
       "American Double / Imperial Stout           23354\n",
       "American Pale Ale (APA)                    20520\n",
       "American Amber / Red Ale                   18731\n",
       "Russian Imperial Stout                     17192\n",
       "American Porter                            16601\n",
       "Belgian Strong Dark Ale                    15407\n",
       "Fruit / Vegetable Beer                     15148\n",
       "Witbier                                    13535"
      ]
     },
     "execution_count": 51,
     "metadata": {},
     "output_type": "execute_result"
    }
   ],
   "source": [
    "Top5.sort_values('review_overall',ascending=False)\\\n",
    "  .head(10)"
   ]
  },
  {
   "cell_type": "code",
   "execution_count": 52,
   "metadata": {},
   "outputs": [],
   "source": [
    "# Top 10 highest rated beer style as mentioned above."
   ]
  },
  {
   "cell_type": "markdown",
   "metadata": {},
   "source": [
    "# Question 1.\tRank top 3 Breweries which produce the strongest beers?"
   ]
  },
  {
   "cell_type": "code",
   "execution_count": 54,
   "metadata": {},
   "outputs": [
    {
     "data": {
      "text/html": [
       "<div>\n",
       "<style scoped>\n",
       "    .dataframe tbody tr th:only-of-type {\n",
       "        vertical-align: middle;\n",
       "    }\n",
       "\n",
       "    .dataframe tbody tr th {\n",
       "        vertical-align: top;\n",
       "    }\n",
       "\n",
       "    .dataframe thead th {\n",
       "        text-align: right;\n",
       "    }\n",
       "</style>\n",
       "<table border=\"1\" class=\"dataframe\">\n",
       "  <thead>\n",
       "    <tr style=\"text-align: right;\">\n",
       "      <th></th>\n",
       "      <th>beer_brewerId</th>\n",
       "      <th>beer_name</th>\n",
       "    </tr>\n",
       "    <tr>\n",
       "      <th>beer_ABV</th>\n",
       "      <th></th>\n",
       "      <th></th>\n",
       "    </tr>\n",
       "  </thead>\n",
       "  <tbody>\n",
       "    <tr>\n",
       "      <th>57.70</th>\n",
       "      <td>6513</td>\n",
       "      <td>Schorschbräu Schorschbock 57%</td>\n",
       "    </tr>\n",
       "    <tr>\n",
       "      <th>43.00</th>\n",
       "      <td>6513</td>\n",
       "      <td>Schorschbräu Schorschbock 43%</td>\n",
       "    </tr>\n",
       "    <tr>\n",
       "      <th>39.44</th>\n",
       "      <td>6513</td>\n",
       "      <td>Schorschbräu Schorschbock 40%</td>\n",
       "    </tr>\n",
       "    <tr>\n",
       "      <th>30.86</th>\n",
       "      <td>6513</td>\n",
       "      <td>Schorschbräu Schorschbock 31%</td>\n",
       "    </tr>\n",
       "    <tr>\n",
       "      <th>27.00</th>\n",
       "      <td>35</td>\n",
       "      <td>Samuel Adams Utopias</td>\n",
       "    </tr>\n",
       "    <tr>\n",
       "      <th>25.00</th>\n",
       "      <td>35</td>\n",
       "      <td>Samuel Adams Utopias MMIII</td>\n",
       "    </tr>\n",
       "    <tr>\n",
       "      <th>24.00</th>\n",
       "      <td>35</td>\n",
       "      <td>Samuel Adams Utopias MMII</td>\n",
       "    </tr>\n",
       "    <tr>\n",
       "      <th>21.00</th>\n",
       "      <td>35</td>\n",
       "      <td>Samuel Adams Millennium</td>\n",
       "    </tr>\n",
       "    <tr>\n",
       "      <th>19.50</th>\n",
       "      <td>16866</td>\n",
       "      <td>Grey Monday</td>\n",
       "    </tr>\n",
       "    <tr>\n",
       "      <th>19.20</th>\n",
       "      <td>18796</td>\n",
       "      <td>Acero</td>\n",
       "    </tr>\n",
       "  </tbody>\n",
       "</table>\n",
       "</div>"
      ],
      "text/plain": [
       "          beer_brewerId                      beer_name\n",
       "beer_ABV                                              \n",
       "57.70              6513  Schorschbräu Schorschbock 57%\n",
       "43.00              6513  Schorschbräu Schorschbock 43%\n",
       "39.44              6513  Schorschbräu Schorschbock 40%\n",
       "30.86              6513  Schorschbräu Schorschbock 31%\n",
       "27.00                35           Samuel Adams Utopias\n",
       "25.00                35     Samuel Adams Utopias MMIII\n",
       "24.00                35      Samuel Adams Utopias MMII\n",
       "21.00                35        Samuel Adams Millennium\n",
       "19.50             16866                    Grey Monday\n",
       "19.20             18796                          Acero"
      ]
     },
     "execution_count": 54,
     "metadata": {},
     "output_type": "execute_result"
    }
   ],
   "source": [
    "df[['beer_ABV','beer_brewerId','beer_name']].groupby('beer_ABV').agg('max').tail(10).sort_values(['beer_ABV'],ascending=False)"
   ]
  },
  {
   "cell_type": "markdown",
   "metadata": {},
   "source": [
    "Ans 1) Here by considering beer_ABV as the key factor for deciding the strongness of beer we have following result:\n",
    "\n",
    "There are three breweries with beer_brewerId 6513,35 and 16866 produceed strongest beers.\n",
    "\n",
    "1) beer_brewerId  with 6513 produced strongest beer with 57.7% ABV\n",
    "\n",
    "2) beer_brewerId with 35 produced strongest beer with 27% ABV\n",
    "\n",
    "3) beer_brewer_id with 16866 produced strongest beer with 19.50% ABV\n",
    "\n",
    "\n",
    "\n",
    "                                         or\n",
    "                                         \n",
    "We can also say that beer_brewerId with 6513 produced top 3 strongest beer with beer_ABV 57.7%,43% and 39.44%"
   ]
  },
  {
   "cell_type": "markdown",
   "metadata": {},
   "source": [
    "# Question  2.  Which year did beers enjoy the highest ratings?\n"
   ]
  },
  {
   "cell_type": "markdown",
   "metadata": {},
   "source": [
    "To answer this question i need to change format of review_time column which later i converted that column with name of  Converted review_time"
   ]
  },
  {
   "cell_type": "code",
   "execution_count": 55,
   "metadata": {},
   "outputs": [],
   "source": [
    "df1['year'] = df1['Converted review_time'].dt.year"
   ]
  },
  {
   "cell_type": "code",
   "execution_count": 56,
   "metadata": {},
   "outputs": [
    {
     "data": {
      "text/plain": [
       "Text(0, 0.5, 'Count')"
      ]
     },
     "execution_count": 56,
     "metadata": {},
     "output_type": "execute_result"
    },
    {
     "data": {
      "image/png": "[encoded data removed]",
      "text/plain": [
       "<Figure size 432x288 with 1 Axes>"
      ]
     },
     "metadata": {},
     "output_type": "display_data"
    }
   ],
   "source": [
    "df1[['review_overall','year']].groupby(['year']).agg(['count']).plot.bar()\n",
    "plt.xlabel('Year')\n",
    "plt.ylabel('Count')"
   ]
  },
  {
   "cell_type": "markdown",
   "metadata": {},
   "source": [
    "Ans 2) Here by considering overall review given by people in each year we have following result.\n",
    "\n",
    "\n",
    "\n",
    "\n",
    "\n",
    "\n",
    "\n",
    "      In year 2011 people gave highest reviews which is nearly 100000"
   ]
  },
  {
   "cell_type": "markdown",
   "metadata": {},
   "source": [
    "# Question 3.\tBased on the user’s ratings which factors are important among taste, aroma, appearance, and palette?"
   ]
  },
  {
   "cell_type": "markdown",
   "metadata": {},
   "source": [
    "There are two ways to answer this question which are as followig.\n",
    "\n",
    "\n",
    "1) By Correlation plot\n",
    "\n",
    "\n",
    "\n",
    "\n",
    "2) By creating Linera Model\n",
    "\n",
    "\n",
    "   I'm trying both ways here,"
   ]
  },
  {
   "cell_type": "code",
   "execution_count": 57,
   "metadata": {},
   "outputs": [
    {
     "data": {
      "text/plain": [
       "<matplotlib.axes._subplots.AxesSubplot at 0x11d3a729c70>"
      ]
     },
     "execution_count": 57,
     "metadata": {},
     "output_type": "execute_result"
    },
    {
     "data": {
      "image/png": "[encoded data removed]",
      "text/plain": [
       "<Figure size 1080x432 with 2 Axes>"
      ]
     },
     "metadata": {},
     "output_type": "display_data"
    }
   ],
   "source": [
    "plt.figure(figsize=(15,6))\n",
    "f=df1[['review_palette','review_overall','review_taste','review_aroma','review_appearance']].corr()\n",
    "sns.heatmap(f,cmap='coolwarm',linecolor='black',linewidth=3,annot=True)"
   ]
  },
  {
   "cell_type": "markdown",
   "metadata": {},
   "source": [
    "Ans 3) By Correlation plot following are the results of above graph\n",
    "\n",
    "\n",
    "\n",
    "       1) aroma has higher correlation with overall rating\n",
    "       \n",
    "       \n",
    "       2) appearance has lower correaltion with oveall rating "
   ]
  },
  {
   "cell_type": "code",
   "execution_count": 58,
   "metadata": {},
   "outputs": [],
   "source": [
    "from sklearn.model_selection import train_test_split"
   ]
  },
  {
   "cell_type": "code",
   "execution_count": 59,
   "metadata": {},
   "outputs": [],
   "source": [
    "from sklearn.linear_model import LinearRegression"
   ]
  },
  {
   "cell_type": "code",
   "execution_count": 60,
   "metadata": {},
   "outputs": [],
   "source": [
    "X=df1[['review_appearance','review_aroma','review_taste','review_palette']]\n",
    "y=df1['review_overall']"
   ]
  },
  {
   "cell_type": "code",
   "execution_count": 61,
   "metadata": {},
   "outputs": [],
   "source": [
    "X_train, X_test, y_train, y_test = train_test_split(X, y, test_size=0.33, random_state=0)"
   ]
  },
  {
   "cell_type": "code",
   "execution_count": 62,
   "metadata": {},
   "outputs": [],
   "source": [
    "Lr=LinearRegression()"
   ]
  },
  {
   "cell_type": "code",
   "execution_count": 63,
   "metadata": {},
   "outputs": [
    {
     "data": {
      "text/plain": [
       "LinearRegression()"
      ]
     },
     "execution_count": 63,
     "metadata": {},
     "output_type": "execute_result"
    }
   ],
   "source": [
    "Lr.fit(X_train,y_train)"
   ]
  },
  {
   "cell_type": "code",
   "execution_count": 64,
   "metadata": {},
   "outputs": [
    {
     "data": {
      "text/plain": [
       "<matplotlib.axes._subplots.AxesSubplot at 0x11d4ac7d640>"
      ]
     },
     "execution_count": 64,
     "metadata": {},
     "output_type": "execute_result"
    },
    {
     "data": {
      "image/png": "[encoded data removed]",
      "text/plain": [
       "<Figure size 432x288 with 1 Axes>"
      ]
     },
     "metadata": {},
     "output_type": "display_data"
    }
   ],
   "source": [
    "coeff_df = pd.DataFrame(Lr.coef_,X.columns,columns=['Coefficient'])\n",
    "coeff_df.plot.bar()"
   ]
  },
  {
   "cell_type": "markdown",
   "metadata": {},
   "source": [
    "Ans 3) By Linear Model\n",
    "\n",
    "    Coefficient of aroma is nearly .55 which means oveall rating is highly dependent on aroma. Taste comes 2nd then  palette and last appearance of beer."
   ]
  },
  {
   "cell_type": "markdown",
   "metadata": {},
   "source": [
    "# Question 4.\tIf you were to recommend 3 beers to your friends based on this data which ones will you recommend?"
   ]
  },
  {
   "cell_type": "markdown",
   "metadata": {},
   "source": [
    "There are two ways to answer this question\n",
    "\n",
    "\n",
    "1) With the help of Recommendation engine\n",
    "\n",
    "\n",
    "2) With the help of Aggeragate functions.\n",
    "\n",
    "   I will answer this question with 2nd way"
   ]
  },
  {
   "cell_type": "code",
   "execution_count": 65,
   "metadata": {},
   "outputs": [],
   "source": [
    "Recommend= df1[['beer_name','review_overall']]\\\n",
    "    .pivot_table(index=\"beer_name\", aggfunc=('count','mean'))\\\n",
    "    .dropna()"
   ]
  },
  {
   "cell_type": "code",
   "execution_count": 66,
   "metadata": {},
   "outputs": [],
   "source": [
    "Recommend.columns = Recommend.columns.to_series().str.join('_')\n",
    "Recommend.reset_index(inplace=True)"
   ]
  },
  {
   "cell_type": "code",
   "execution_count": 67,
   "metadata": {},
   "outputs": [],
   "source": [
    "Recommend= Recommend.query('review_overall_count >= 1000')\\\n",
    "  .sort_values('review_overall_mean',ascending=False)\\\n",
    "  .head(3)"
   ]
  },
  {
   "cell_type": "code",
   "execution_count": 68,
   "metadata": {},
   "outputs": [
    {
     "data": {
      "text/html": [
       "<div>\n",
       "<style scoped>\n",
       "    .dataframe tbody tr th:only-of-type {\n",
       "        vertical-align: middle;\n",
       "    }\n",
       "\n",
       "    .dataframe tbody tr th {\n",
       "        vertical-align: top;\n",
       "    }\n",
       "\n",
       "    .dataframe thead th {\n",
       "        text-align: right;\n",
       "    }\n",
       "</style>\n",
       "<table border=\"1\" class=\"dataframe\">\n",
       "  <thead>\n",
       "    <tr style=\"text-align: right;\">\n",
       "      <th></th>\n",
       "      <th>beer_name</th>\n",
       "      <th>review_overall_count</th>\n",
       "      <th>review_overall_mean</th>\n",
       "    </tr>\n",
       "  </thead>\n",
       "  <tbody>\n",
       "    <tr>\n",
       "      <th>6199</th>\n",
       "      <td>Founders KBS (Kentucky Breakfast Stout)</td>\n",
       "      <td>1932</td>\n",
       "      <td>4.397516</td>\n",
       "    </tr>\n",
       "    <tr>\n",
       "      <th>16870</th>\n",
       "      <td>Tröegs Nugget Nectar</td>\n",
       "      <td>1955</td>\n",
       "      <td>4.395652</td>\n",
       "    </tr>\n",
       "    <tr>\n",
       "      <th>6145</th>\n",
       "      <td>Founders Breakfast Stout</td>\n",
       "      <td>2502</td>\n",
       "      <td>4.354516</td>\n",
       "    </tr>\n",
       "  </tbody>\n",
       "</table>\n",
       "</div>"
      ],
      "text/plain": [
       "                                     beer_name  review_overall_count  \\\n",
       "6199   Founders KBS (Kentucky Breakfast Stout)                  1932   \n",
       "16870                     Tröegs Nugget Nectar                  1955   \n",
       "6145                  Founders Breakfast Stout                  2502   \n",
       "\n",
       "       review_overall_mean  \n",
       "6199              4.397516  \n",
       "16870             4.395652  \n",
       "6145              4.354516  "
      ]
     },
     "execution_count": 68,
     "metadata": {},
     "output_type": "execute_result"
    }
   ],
   "source": [
    "Recommend"
   ]
  },
  {
   "cell_type": "markdown",
   "metadata": {},
   "source": [
    "Ans 4) Here I'm considering mean of overall ratings as a deciding factor for my personal recommendation.\n",
    "\n",
    "     1) 1st recommendation would be Founders KBS(Kentucky Breakfast Stout)\n",
    "     2) 2nd recommendation would be Tröegs Nugget Nectar\n",
    "     3) 3rd recommendation would be Founders Breakfast Stout\t"
   ]
  },
  {
   "cell_type": "markdown",
   "metadata": {},
   "source": [
    "# Question 5. Which Beer style seems to be the favorite based on reviews     written by users? "
   ]
  },
  {
   "cell_type": "markdown",
   "metadata": {},
   "source": [
    "There are many ways to solve this question but i will answer this question by Sentiment Analysis.But in Sentiment Analysis there are two methods \n",
    "\n",
    "\n",
    "\n",
    "\n",
    " 1) Text blob Method\n",
    " \n",
    " 2) Vader Method\n",
    " \n",
    " I will prefer Vader Method"
   ]
  },
  {
   "cell_type": "code",
   "execution_count": 70,
   "metadata": {},
   "outputs": [],
   "source": [
    "# For this analysis i need to import some of the libraries"
   ]
  },
  {
   "cell_type": "code",
   "execution_count": 71,
   "metadata": {},
   "outputs": [],
   "source": [
    "import nltk\n",
    "import re\n",
    "from nltk.corpus import stopwords\n",
    "from nltk.stem import WordNetLemmatizer\n",
    "from nltk.tokenize import RegexpTokenizer\n",
    "from nltk.sentiment.vader import SentimentIntensityAnalyzer"
   ]
  },
  {
   "cell_type": "code",
   "execution_count": 73,
   "metadata": {},
   "outputs": [],
   "source": [
    "df1.drop(['Converted review_time','beer_beerId','beer_brewerId','review_appearance','review_palette','review_taste','review_aroma'],axis=1,inplace=True)"
   ]
  },
  {
   "cell_type": "code",
   "execution_count": 74,
   "metadata": {},
   "outputs": [],
   "source": [
    "#dropping some columns"
   ]
  },
  {
   "cell_type": "code",
   "execution_count": 75,
   "metadata": {},
   "outputs": [],
   "source": [
    "df1[\"review_text\"] = df1['review_text'].str.replace('[^\\w\\s]','')"
   ]
  },
  {
   "cell_type": "code",
   "execution_count": 76,
   "metadata": {},
   "outputs": [],
   "source": [
    "#Removing punctuation marks in review_text column"
   ]
  },
  {
   "cell_type": "code",
   "execution_count": 77,
   "metadata": {},
   "outputs": [],
   "source": [
    "df1['review_text']=df1['review_text'].astype(str)"
   ]
  },
  {
   "cell_type": "code",
   "execution_count": 78,
   "metadata": {},
   "outputs": [],
   "source": [
    "analyzer = SentimentIntensityAnalyzer()"
   ]
  },
  {
   "cell_type": "code",
   "execution_count": 79,
   "metadata": {},
   "outputs": [],
   "source": [
    "df1['compound'] = [analyzer.polarity_scores(v)['compound'] for v in df1['review_text']]\n",
    "df1['neg'] = [analyzer.polarity_scores(v)['neg'] for v in df1['review_text']]\n",
    "df1['neu'] = [analyzer.polarity_scores(v)['neu'] for v in df1['review_text']]\n",
    "df1['pos'] = [analyzer.polarity_scores(v)['pos'] for v in df1['review_text']]"
   ]
  },
  {
   "cell_type": "markdown",
   "metadata": {},
   "source": [
    "Here i have created some new columns like Comopound,neg,neu and pos. but what are these columns i will explain you,\n",
    "    \n",
    "    \n",
    "  1)Compound column represents the overall score, higher the score is, higher your goodness of review will be\n",
    "  \n",
    "  2)pos column represents positive score of review\n",
    "  \n",
    "  3)neu column represents neutarl score of review\n",
    "\n",
    "  4)neg column represents negative score of review"
   ]
  },
  {
   "cell_type": "code",
   "execution_count": 80,
   "metadata": {},
   "outputs": [
    {
     "data": {
      "text/html": [
       "<div>\n",
       "<style scoped>\n",
       "    .dataframe tbody tr th:only-of-type {\n",
       "        vertical-align: middle;\n",
       "    }\n",
       "\n",
       "    .dataframe tbody tr th {\n",
       "        vertical-align: top;\n",
       "    }\n",
       "\n",
       "    .dataframe thead th {\n",
       "        text-align: right;\n",
       "    }\n",
       "</style>\n",
       "<table border=\"1\" class=\"dataframe\">\n",
       "  <thead>\n",
       "    <tr style=\"text-align: right;\">\n",
       "      <th></th>\n",
       "      <th>beer_ABV</th>\n",
       "      <th>beer_name</th>\n",
       "      <th>beer_style</th>\n",
       "      <th>review_overall</th>\n",
       "      <th>review_profileName</th>\n",
       "      <th>review_text</th>\n",
       "      <th>year</th>\n",
       "      <th>compound</th>\n",
       "      <th>neg</th>\n",
       "      <th>neu</th>\n",
       "      <th>pos</th>\n",
       "    </tr>\n",
       "  </thead>\n",
       "  <tbody>\n",
       "    <tr>\n",
       "      <th>472823</th>\n",
       "      <td>11.1</td>\n",
       "      <td>Blithering Idiot</td>\n",
       "      <td>English Barleywine</td>\n",
       "      <td>4.5</td>\n",
       "      <td>Crosling</td>\n",
       "      <td>Very rich and vibrant aroma which hints of bra...</td>\n",
       "      <td>2006</td>\n",
       "      <td>0.9999</td>\n",
       "      <td>0.000</td>\n",
       "      <td>0.177</td>\n",
       "      <td>0.823</td>\n",
       "    </tr>\n",
       "    <tr>\n",
       "      <th>80989</th>\n",
       "      <td>5.0</td>\n",
       "      <td>Sierra Nevada Summerfest Lager</td>\n",
       "      <td>Czech Pilsener</td>\n",
       "      <td>3.5</td>\n",
       "      <td>philbertk</td>\n",
       "      <td>Sierra Nevada Brewing Company Summerfest Beer1...</td>\n",
       "      <td>2011</td>\n",
       "      <td>0.9998</td>\n",
       "      <td>0.019</td>\n",
       "      <td>0.637</td>\n",
       "      <td>0.343</td>\n",
       "    </tr>\n",
       "    <tr>\n",
       "      <th>319238</th>\n",
       "      <td>5.5</td>\n",
       "      <td>Samuel Adams Winter Lager</td>\n",
       "      <td>Bock</td>\n",
       "      <td>4.0</td>\n",
       "      <td>philbertk</td>\n",
       "      <td>1998 694 ABV 35  50 Dark Red amber color Mediu...</td>\n",
       "      <td>2010</td>\n",
       "      <td>0.9998</td>\n",
       "      <td>0.009</td>\n",
       "      <td>0.679</td>\n",
       "      <td>0.312</td>\n",
       "    </tr>\n",
       "    <tr>\n",
       "      <th>77599</th>\n",
       "      <td>9.6</td>\n",
       "      <td>Sierra Nevada Bigfoot Barleywine Style Ale</td>\n",
       "      <td>American Barleywine</td>\n",
       "      <td>4.5</td>\n",
       "      <td>Wasatch</td>\n",
       "      <td>2009 Edition 15 Years On This Bottle Revisted ...</td>\n",
       "      <td>2006</td>\n",
       "      <td>0.9998</td>\n",
       "      <td>0.018</td>\n",
       "      <td>0.651</td>\n",
       "      <td>0.331</td>\n",
       "    </tr>\n",
       "    <tr>\n",
       "      <th>101959</th>\n",
       "      <td>6.5</td>\n",
       "      <td>Hale's O'Brien's Harvest Ale</td>\n",
       "      <td>American Pale Ale (APA)</td>\n",
       "      <td>4.5</td>\n",
       "      <td>philbertk</td>\n",
       "      <td>1999 12 oz Bottle 600 ABV 40  50 Oktoberfest P...</td>\n",
       "      <td>2010</td>\n",
       "      <td>0.9997</td>\n",
       "      <td>0.010</td>\n",
       "      <td>0.700</td>\n",
       "      <td>0.290</td>\n",
       "    </tr>\n",
       "    <tr>\n",
       "      <th>...</th>\n",
       "      <td>...</td>\n",
       "      <td>...</td>\n",
       "      <td>...</td>\n",
       "      <td>...</td>\n",
       "      <td>...</td>\n",
       "      <td>...</td>\n",
       "      <td>...</td>\n",
       "      <td>...</td>\n",
       "      <td>...</td>\n",
       "      <td>...</td>\n",
       "      <td>...</td>\n",
       "    </tr>\n",
       "    <tr>\n",
       "      <th>349527</th>\n",
       "      <td>4.2</td>\n",
       "      <td>Coors Light</td>\n",
       "      <td>Light Lager</td>\n",
       "      <td>1.5</td>\n",
       "      <td>PatronWizard</td>\n",
       "      <td>Had a visitor who wanted this wifes side of th...</td>\n",
       "      <td>2009</td>\n",
       "      <td>-0.9943</td>\n",
       "      <td>0.289</td>\n",
       "      <td>0.651</td>\n",
       "      <td>0.060</td>\n",
       "    </tr>\n",
       "    <tr>\n",
       "      <th>279303</th>\n",
       "      <td>5.0</td>\n",
       "      <td>Atwater Rost</td>\n",
       "      <td>American Amber / Red Ale</td>\n",
       "      <td>2.0</td>\n",
       "      <td>BuckeyeNation</td>\n",
       "      <td>Lightly speckled tangerine with a beige cap th...</td>\n",
       "      <td>2007</td>\n",
       "      <td>-0.9948</td>\n",
       "      <td>0.192</td>\n",
       "      <td>0.754</td>\n",
       "      <td>0.054</td>\n",
       "    </tr>\n",
       "    <tr>\n",
       "      <th>316529</th>\n",
       "      <td>5.9</td>\n",
       "      <td>Samuel Adams Cranberry Lambic</td>\n",
       "      <td>Fruit / Vegetable Beer</td>\n",
       "      <td>1.0</td>\n",
       "      <td>SamN</td>\n",
       "      <td>Of course this is not a real American Lambic f...</td>\n",
       "      <td>2010</td>\n",
       "      <td>-0.9952</td>\n",
       "      <td>0.301</td>\n",
       "      <td>0.627</td>\n",
       "      <td>0.072</td>\n",
       "    </tr>\n",
       "    <tr>\n",
       "      <th>316023</th>\n",
       "      <td>5.9</td>\n",
       "      <td>Samuel Adams Cranberry Lambic</td>\n",
       "      <td>Fruit / Vegetable Beer</td>\n",
       "      <td>1.0</td>\n",
       "      <td>becktone</td>\n",
       "      <td>From notes 112208 Eye All in all this brew loo...</td>\n",
       "      <td>2009</td>\n",
       "      <td>-0.9964</td>\n",
       "      <td>0.169</td>\n",
       "      <td>0.720</td>\n",
       "      <td>0.111</td>\n",
       "    </tr>\n",
       "    <tr>\n",
       "      <th>349243</th>\n",
       "      <td>4.2</td>\n",
       "      <td>Coors Light</td>\n",
       "      <td>Light Lager</td>\n",
       "      <td>2.5</td>\n",
       "      <td>witster18</td>\n",
       "      <td>When I think of the few beers that I would act...</td>\n",
       "      <td>2010</td>\n",
       "      <td>-0.9974</td>\n",
       "      <td>0.260</td>\n",
       "      <td>0.696</td>\n",
       "      <td>0.044</td>\n",
       "    </tr>\n",
       "  </tbody>\n",
       "</table>\n",
       "<p>528870 rows × 11 columns</p>\n",
       "</div>"
      ],
      "text/plain": [
       "        beer_ABV                                   beer_name  \\\n",
       "472823      11.1                            Blithering Idiot   \n",
       "80989        5.0              Sierra Nevada Summerfest Lager   \n",
       "319238       5.5                   Samuel Adams Winter Lager   \n",
       "77599        9.6  Sierra Nevada Bigfoot Barleywine Style Ale   \n",
       "101959       6.5                Hale's O'Brien's Harvest Ale   \n",
       "...          ...                                         ...   \n",
       "349527       4.2                                 Coors Light   \n",
       "279303       5.0                                Atwater Rost   \n",
       "316529       5.9               Samuel Adams Cranberry Lambic   \n",
       "316023       5.9               Samuel Adams Cranberry Lambic   \n",
       "349243       4.2                                 Coors Light   \n",
       "\n",
       "                      beer_style  review_overall review_profileName  \\\n",
       "472823        English Barleywine             4.5           Crosling   \n",
       "80989             Czech Pilsener             3.5          philbertk   \n",
       "319238                      Bock             4.0          philbertk   \n",
       "77599        American Barleywine             4.5            Wasatch   \n",
       "101959   American Pale Ale (APA)             4.5          philbertk   \n",
       "...                          ...             ...                ...   \n",
       "349527               Light Lager             1.5       PatronWizard   \n",
       "279303  American Amber / Red Ale             2.0      BuckeyeNation   \n",
       "316529    Fruit / Vegetable Beer             1.0               SamN   \n",
       "316023    Fruit / Vegetable Beer             1.0           becktone   \n",
       "349243               Light Lager             2.5          witster18   \n",
       "\n",
       "                                              review_text  year  compound  \\\n",
       "472823  Very rich and vibrant aroma which hints of bra...  2006    0.9999   \n",
       "80989   Sierra Nevada Brewing Company Summerfest Beer1...  2011    0.9998   \n",
       "319238  1998 694 ABV 35  50 Dark Red amber color Mediu...  2010    0.9998   \n",
       "77599   2009 Edition 15 Years On This Bottle Revisted ...  2006    0.9998   \n",
       "101959  1999 12 oz Bottle 600 ABV 40  50 Oktoberfest P...  2010    0.9997   \n",
       "...                                                   ...   ...       ...   \n",
       "349527  Had a visitor who wanted this wifes side of th...  2009   -0.9943   \n",
       "279303  Lightly speckled tangerine with a beige cap th...  2007   -0.9948   \n",
       "316529  Of course this is not a real American Lambic f...  2010   -0.9952   \n",
       "316023  From notes 112208 Eye All in all this brew loo...  2009   -0.9964   \n",
       "349243  When I think of the few beers that I would act...  2010   -0.9974   \n",
       "\n",
       "          neg    neu    pos  \n",
       "472823  0.000  0.177  0.823  \n",
       "80989   0.019  0.637  0.343  \n",
       "319238  0.009  0.679  0.312  \n",
       "77599   0.018  0.651  0.331  \n",
       "101959  0.010  0.700  0.290  \n",
       "...       ...    ...    ...  \n",
       "349527  0.289  0.651  0.060  \n",
       "279303  0.192  0.754  0.054  \n",
       "316529  0.301  0.627  0.072  \n",
       "316023  0.169  0.720  0.111  \n",
       "349243  0.260  0.696  0.044  \n",
       "\n",
       "[528870 rows x 11 columns]"
      ]
     },
     "execution_count": 80,
     "metadata": {},
     "output_type": "execute_result"
    }
   ],
   "source": [
    "df1.sort_values('compound',ascending=False)"
   ]
  },
  {
   "cell_type": "code",
   "execution_count": 81,
   "metadata": {},
   "outputs": [],
   "source": [
    "# Sorting Compound score in descending order"
   ]
  },
  {
   "cell_type": "code",
   "execution_count": 82,
   "metadata": {},
   "outputs": [],
   "source": [
    "Result=df1[['beer_style','compound']].groupby('beer_style').mean().sort_values('compound',ascending=False)"
   ]
  },
  {
   "cell_type": "code",
   "execution_count": 83,
   "metadata": {},
   "outputs": [
    {
     "data": {
      "text/html": [
       "<div>\n",
       "<style scoped>\n",
       "    .dataframe tbody tr th:only-of-type {\n",
       "        vertical-align: middle;\n",
       "    }\n",
       "\n",
       "    .dataframe tbody tr th {\n",
       "        vertical-align: top;\n",
       "    }\n",
       "\n",
       "    .dataframe thead th {\n",
       "        text-align: right;\n",
       "    }\n",
       "</style>\n",
       "<table border=\"1\" class=\"dataframe\">\n",
       "  <thead>\n",
       "    <tr style=\"text-align: right;\">\n",
       "      <th></th>\n",
       "      <th>compound</th>\n",
       "    </tr>\n",
       "    <tr>\n",
       "      <th>beer_style</th>\n",
       "      <th></th>\n",
       "    </tr>\n",
       "  </thead>\n",
       "  <tbody>\n",
       "    <tr>\n",
       "      <th>Braggot</th>\n",
       "      <td>0.856733</td>\n",
       "    </tr>\n",
       "    <tr>\n",
       "      <th>Quadrupel (Quad)</th>\n",
       "      <td>0.855314</td>\n",
       "    </tr>\n",
       "    <tr>\n",
       "      <th>Dortmunder / Export Lager</th>\n",
       "      <td>0.849164</td>\n",
       "    </tr>\n",
       "    <tr>\n",
       "      <th>Flanders Red Ale</th>\n",
       "      <td>0.849022</td>\n",
       "    </tr>\n",
       "    <tr>\n",
       "      <th>American Double / Imperial Stout</th>\n",
       "      <td>0.846893</td>\n",
       "    </tr>\n",
       "  </tbody>\n",
       "</table>\n",
       "</div>"
      ],
      "text/plain": [
       "                                  compound\n",
       "beer_style                                \n",
       "Braggot                           0.856733\n",
       "Quadrupel (Quad)                  0.855314\n",
       "Dortmunder / Export Lager         0.849164\n",
       "Flanders Red Ale                  0.849022\n",
       "American Double / Imperial Stout  0.846893"
      ]
     },
     "execution_count": 83,
     "metadata": {},
     "output_type": "execute_result"
    }
   ],
   "source": [
    "Result.head().plot"
   ]
  },
  {
   "cell_type": "markdown",
   "metadata": {},
   "source": [
    "Ans 5) Here i'm considering mean compound score as a deciding factor for most favorite beer style we have following result.\n",
    "\n",
    "        1)I'm considering top 5 beer style with highest mean compound score\n",
    "        2)Braggot is the most favourite beer style with mean compound score of .8567\n",
    "        3)Quadrupel (Quad) is the 2nd most favorite beer style\n",
    "        4)Dortmunder/Export Lager is the 3rd most favorite beer style"
   ]
  },
  {
   "cell_type": "markdown",
   "metadata": {},
   "source": [
    "# Question 6.\tHow does written review compare to overall review score for the beer styles?"
   ]
  },
  {
   "cell_type": "markdown",
   "metadata": {},
   "source": [
    "Here i'm trying to compare mean compound score with mean overall review of beer styles"
   ]
  },
  {
   "cell_type": "code",
   "execution_count": 84,
   "metadata": {},
   "outputs": [],
   "source": [
    "Result2=df1[['beer_style','compound','review_overall']].groupby('beer_style').mean().sort_values('compound',ascending=False)"
   ]
  },
  {
   "cell_type": "code",
   "execution_count": 85,
   "metadata": {},
   "outputs": [
    {
     "data": {
      "text/html": [
       "<div>\n",
       "<style scoped>\n",
       "    .dataframe tbody tr th:only-of-type {\n",
       "        vertical-align: middle;\n",
       "    }\n",
       "\n",
       "    .dataframe tbody tr th {\n",
       "        vertical-align: top;\n",
       "    }\n",
       "\n",
       "    .dataframe thead th {\n",
       "        text-align: right;\n",
       "    }\n",
       "</style>\n",
       "<table border=\"1\" class=\"dataframe\">\n",
       "  <thead>\n",
       "    <tr style=\"text-align: right;\">\n",
       "      <th></th>\n",
       "      <th>compound</th>\n",
       "      <th>review_overall</th>\n",
       "    </tr>\n",
       "    <tr>\n",
       "      <th>beer_style</th>\n",
       "      <th></th>\n",
       "      <th></th>\n",
       "    </tr>\n",
       "  </thead>\n",
       "  <tbody>\n",
       "    <tr>\n",
       "      <th>Braggot</th>\n",
       "      <td>0.856733</td>\n",
       "      <td>3.645729</td>\n",
       "    </tr>\n",
       "    <tr>\n",
       "      <th>Quadrupel (Quad)</th>\n",
       "      <td>0.855314</td>\n",
       "      <td>4.049250</td>\n",
       "    </tr>\n",
       "    <tr>\n",
       "      <th>Dortmunder / Export Lager</th>\n",
       "      <td>0.849164</td>\n",
       "      <td>4.051962</td>\n",
       "    </tr>\n",
       "    <tr>\n",
       "      <th>Flanders Red Ale</th>\n",
       "      <td>0.849022</td>\n",
       "      <td>3.962561</td>\n",
       "    </tr>\n",
       "    <tr>\n",
       "      <th>American Double / Imperial Stout</th>\n",
       "      <td>0.846893</td>\n",
       "      <td>4.100518</td>\n",
       "    </tr>\n",
       "    <tr>\n",
       "      <th>...</th>\n",
       "      <td>...</td>\n",
       "      <td>...</td>\n",
       "    </tr>\n",
       "    <tr>\n",
       "      <th>Happoshu</th>\n",
       "      <td>0.530362</td>\n",
       "      <td>2.818182</td>\n",
       "    </tr>\n",
       "    <tr>\n",
       "      <th>Japanese Rice Lager</th>\n",
       "      <td>0.519884</td>\n",
       "      <td>3.032258</td>\n",
       "    </tr>\n",
       "    <tr>\n",
       "      <th>American Malt Liquor</th>\n",
       "      <td>0.519726</td>\n",
       "      <td>2.722183</td>\n",
       "    </tr>\n",
       "    <tr>\n",
       "      <th>Light Lager</th>\n",
       "      <td>0.463077</td>\n",
       "      <td>2.913462</td>\n",
       "    </tr>\n",
       "    <tr>\n",
       "      <th>Low Alcohol Beer</th>\n",
       "      <td>0.434009</td>\n",
       "      <td>2.602740</td>\n",
       "    </tr>\n",
       "  </tbody>\n",
       "</table>\n",
       "<p>104 rows × 2 columns</p>\n",
       "</div>"
      ],
      "text/plain": [
       "                                  compound  review_overall\n",
       "beer_style                                                \n",
       "Braggot                           0.856733        3.645729\n",
       "Quadrupel (Quad)                  0.855314        4.049250\n",
       "Dortmunder / Export Lager         0.849164        4.051962\n",
       "Flanders Red Ale                  0.849022        3.962561\n",
       "American Double / Imperial Stout  0.846893        4.100518\n",
       "...                                    ...             ...\n",
       "Happoshu                          0.530362        2.818182\n",
       "Japanese Rice Lager               0.519884        3.032258\n",
       "American Malt Liquor              0.519726        2.722183\n",
       "Light Lager                       0.463077        2.913462\n",
       "Low Alcohol Beer                  0.434009        2.602740\n",
       "\n",
       "[104 rows x 2 columns]"
      ]
     },
     "execution_count": 85,
     "metadata": {},
     "output_type": "execute_result"
    }
   ],
   "source": [
    "Result2"
   ]
  },
  {
   "cell_type": "code",
   "execution_count": 93,
   "metadata": {},
   "outputs": [
    {
     "data": {
      "text/plain": [
       "<seaborn.axisgrid.FacetGrid at 0x11d0d633bb0>"
      ]
     },
     "execution_count": 93,
     "metadata": {},
     "output_type": "execute_result"
    },
    {
     "data": {
      "image/png": "[encoded data removed]",
      "text/plain": [
       "<Figure size 360x360 with 1 Axes>"
      ]
     },
     "metadata": {},
     "output_type": "display_data"
    }
   ],
   "source": [
    "sns.lmplot(x='review_overall',y='compound',data=Result2)"
   ]
  },
  {
   "cell_type": "markdown",
   "metadata": {},
   "source": [
    "Ans 6) We can see a linear relationship between overall review and compound score.\n",
    "\n",
    "\n",
    "\n",
    "\n",
    "\n",
    "        In a way we can say that written reviews are linearly related to overall score.\n",
    "        \n",
    "        \n",
    "        That means people are rating beer styles  based on their reviews on the products."
   ]
  },
  {
   "cell_type": "code",
   "execution_count": null,
   "metadata": {},
   "outputs": [],
   "source": []
  }
 ],
 "metadata": {
  "kernelspec": {
   "display_name": "Python 3",
   "language": "python",
   "name": "python3"
  },
  "language_info": {
   "codemirror_mode": {
    "name": "ipython",
    "version": 3
   },
   "file_extension": ".py",
   "mimetype": "text/x-python",
   "name": "python",
   "nbconvert_exporter": "python",
   "pygments_lexer": "ipython3",
   "version": "3.8.3"
  }
 },
 "nbformat": 4,
 "nbformat_minor": 4
}
